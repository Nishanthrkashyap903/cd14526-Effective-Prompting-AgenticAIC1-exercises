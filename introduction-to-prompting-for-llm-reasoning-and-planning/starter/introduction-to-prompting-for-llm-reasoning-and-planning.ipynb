{
 "cells": [
  {
   "cell_type": "markdown",
   "metadata": {},
   "source": [
    "# Pre-Lesson Exercise: Organize Your Workspace Space Kick-Off\n",
    "\n",
    "Before we get started on our course, let's take some time to set up and tidy our workspace. As an agentic twist on the matter, we will guide a Large Language Model (LLM) through a series of prompt refinements to create a practical plan to organize your personal work area.\n",
    "\n",
    "## Outline\n",
    "\n",
    "1. Start with a generic prompt\n",
    "2. Add a professional role\n",
    "3. Introduce concrete constraints\n",
    "4. Bonus: Apply what you've learned"
   ]
  },
  {
   "cell_type": "code",
   "execution_count": 3,
   "metadata": {},
   "outputs": [
    {
     "data": {
      "text/plain": [
       "True"
      ]
     },
     "execution_count": 3,
     "metadata": {},
     "output_type": "execute_result"
    }
   ],
   "source": [
    "# Import necessary libraries\n",
    "# No changes needed in this cell\n",
    "from openai import OpenAI\n",
    "from IPython.display import Markdown, display\n",
    "import os\n",
    "from dotenv import load_dotenv\n",
    "\n",
    "load_dotenv(\"../../.env\")"
   ]
  },
  {
   "cell_type": "code",
   "execution_count": 4,
   "metadata": {},
   "outputs": [],
   "source": [
    "# If using the Vocareum API endpoint\n",
    "# TODO: Fill in the missing parts marked with **********\n",
    "\n",
    "client = OpenAI(\n",
    "    base_url=\"https://openai.vocareum.com/v1\",\n",
    "    # Uncomment one of the following\n",
    "    # api_key=\"**********\",  # <--- TODO: Fill in your Vocareum API key here\n",
    "    api_key=os.getenv(\n",
    "        \"OPENAI_API_KEY\"\n",
    "    ),  # <-- Alternately, set as an environment variable\n",
    ")\n",
    "\n",
    "# If using OpenAI's API endpoint\n",
    "# client = OpenAI()\n"
   ]
  },
  {
   "cell_type": "code",
   "execution_count": 10,
   "metadata": {},
   "outputs": [],
   "source": [
    "# No changes needed in this cell\n",
    "from enum import Enum\n",
    "\n",
    "\n",
    "class OpenAIModels(str, Enum):\n",
    "    GPT_4O_MINI = \"gpt-4o-mini\"\n",
    "    GPT_41_MINI = \"gpt-4.1-mini\"\n",
    "    GPT_41_NANO = \"gpt-4.1-nano\"\n",
    "\n",
    "\n",
    "MODEL = OpenAIModels.GPT_41_MINI\n",
    "\n",
    "\n",
    "def get_completion(system_prompt, user_prompt, model=MODEL):\n",
    "    \"\"\"\n",
    "    Function to get a completion from the OpenAI API.\n",
    "    Args:\n",
    "        system_prompt: The system prompt\n",
    "        user_prompt: The user prompt\n",
    "        model: The model to use (default is gpt-4.1-mini)\n",
    "    Returns:\n",
    "        The completion text\n",
    "    \"\"\"\n",
    "    messages = [\n",
    "        {\"role\": \"user\", \"content\": user_prompt},\n",
    "    ]\n",
    "    if system_prompt is not None:\n",
    "        messages = [\n",
    "            {\"role\": \"system\", \"content\": system_prompt},\n",
    "            *messages,\n",
    "        ]\n",
    "    try:\n",
    "        response = client.chat.completions.create(\n",
    "            model=model,\n",
    "            messages=messages,\n",
    "            temperature=0.7,\n",
    "        )\n",
    "        return response.choices[0].message.content\n",
    "    except Exception as e:\n",
    "        return f\"An error occurred: {e}\"\n",
    "\n",
    "\n",
    "def display_responses(*args):\n",
    "    \"\"\"Helper function to display responses as Markdown, horizontally.\"\"\"\n",
    "    markdown_string = \"<table><tr>\"\n",
    "    # Headers\n",
    "    for arg in args:\n",
    "        markdown_string += f\"<th>System Prompt:<br />{arg['system_prompt']}<br /><br />\"\n",
    "        markdown_string += f\"User Prompt:<br />{arg['user_prompt']}</th>\"\n",
    "    markdown_string += \"</tr>\"\n",
    "    # Rows\n",
    "    markdown_string += \"<tr>\"\n",
    "    for arg in args:\n",
    "        markdown_string += f\"<td>Response:<br />{arg['response']}</td>\"\n",
    "    markdown_string += \"</tr></table>\"\n",
    "    display(Markdown(markdown_string))"
   ]
  },
  {
   "cell_type": "markdown",
   "metadata": {},
   "source": [
    "## 1. Generic Prompt\n",
    "\n",
    "First, let's see what the model produces with a basic prompt."
   ]
  },
  {
   "cell_type": "code",
   "execution_count": 11,
   "metadata": {},
   "outputs": [
    {
     "name": "stdout",
     "output_type": "stream",
     "text": [
      "Sending prompt to OpenAIModels.GPT_41_MINI model...\n",
      "Response received!\n",
      "\n"
     ]
    },
    {
     "data": {
      "text/markdown": [
       "<table><tr><th>System Prompt:<br />You are a helpful assistant.<br /><br />User Prompt:<br />Give me a simple plan to declutter and organize my workspace.</th></tr><tr><td>Response:<br />Certainly! Here's a simple plan to declutter and organize your workspace:\n",
       "\n",
       "1. **Clear Everything Off**  \n",
       "   Remove all items from your desk and workspace so you can start with a clean slate.\n",
       "\n",
       "2. **Sort Items into Categories**  \n",
       "   Group items into categories such as office supplies, papers, electronics, personal items, and trash/recycling.\n",
       "\n",
       "3. **Declutter**  \n",
       "   - Throw away or recycle anything you no longer need.  \n",
       "   - Put aside items that belong elsewhere in your home or office.\n",
       "\n",
       "4. **Clean Your Workspace**  \n",
       "   Wipe down your desk, keyboard, and other surfaces to create a fresh environment.\n",
       "\n",
       "5. **Organize Essentials**  \n",
       "   - Only keep frequently used items on your desk.  \n",
       "   - Use organizers like trays, bins, or drawer dividers to keep supplies neat.\n",
       "\n",
       "6. **File Papers**  \n",
       "   - Create a filing system for important documents.  \n",
       "   - Consider digitizing papers to reduce clutter.\n",
       "\n",
       "7. **Arrange Electronics**  \n",
       "   - Tidy up cables with clips or ties.  \n",
       "   - Position devices for easy access and ergonomics.\n",
       "\n",
       "8. **Add Personal Touches**  \n",
       "   Add a small plant or a photo to make the space pleasant without overcrowding it.\n",
       "\n",
       "9. **Maintain Regularly**  \n",
       "   Set aside a few minutes daily or weekly to tidy up and prevent clutter buildup.\n",
       "\n",
       "Following this plan will help you create an organized and productive workspace!</td></tr></table>"
      ],
      "text/plain": [
       "<IPython.core.display.Markdown object>"
      ]
     },
     "metadata": {},
     "output_type": "display_data"
    }
   ],
   "source": [
    "# No changes needed in this cell\n",
    "plain_system_prompt = \"You are a helpful assistant.\"  # A generic system prompt\n",
    "user_prompt = \"Give me a simple plan to declutter and organize my workspace.\"\n",
    "\n",
    "print(f\"Sending prompt to {MODEL} model...\")\n",
    "baseline_response = get_completion(plain_system_prompt, user_prompt)\n",
    "print(\"Response received!\\n\")\n",
    "\n",
    "display_responses(\n",
    "    {\n",
    "        \"system_prompt\": plain_system_prompt,\n",
    "        \"user_prompt\": user_prompt,\n",
    "        \"response\": baseline_response,\n",
    "    }\n",
    ")"
   ]
  },
  {
   "cell_type": "markdown",
   "metadata": {},
   "source": [
    "## 2. Add a Professional Role\n",
    "\n",
    "Now, let's add a professional role to see how it affects the response.\n",
    "\n",
    "<div style=\"color: red\">NOTE: We will use the same user prompt for these examples. All you need to do is vary the system prompt, which is where one would normally define the role for an LLM.</div>"
   ]
  },
  {
   "cell_type": "code",
   "execution_count": 12,
   "metadata": {},
   "outputs": [
    {
     "name": "stdout",
     "output_type": "stream",
     "text": [
      "Sending prompt with professional role...\n",
      "Response received!\n",
      "\n"
     ]
    },
    {
     "data": {
      "text/markdown": [
       "<table><tr><th>System Prompt:<br />You are a helpful assistant.<br /><br />User Prompt:<br />Give me a simple plan to declutter and organize my workspace.</th><th>System Prompt:<br />You are an expert professional organizer and a productivity coach<br /><br />User Prompt:<br />Give me a simple plan to declutter and organize my workspace.</th></tr><tr><td>Response:<br />Certainly! Here's a simple plan to declutter and organize your workspace:\n",
       "\n",
       "1. **Clear Everything Off**  \n",
       "   Remove all items from your desk and workspace so you can start with a clean slate.\n",
       "\n",
       "2. **Sort Items into Categories**  \n",
       "   Group items into categories such as office supplies, papers, electronics, personal items, and trash/recycling.\n",
       "\n",
       "3. **Declutter**  \n",
       "   - Throw away or recycle anything you no longer need.  \n",
       "   - Put aside items that belong elsewhere in your home or office.\n",
       "\n",
       "4. **Clean Your Workspace**  \n",
       "   Wipe down your desk, keyboard, and other surfaces to create a fresh environment.\n",
       "\n",
       "5. **Organize Essentials**  \n",
       "   - Only keep frequently used items on your desk.  \n",
       "   - Use organizers like trays, bins, or drawer dividers to keep supplies neat.\n",
       "\n",
       "6. **File Papers**  \n",
       "   - Create a filing system for important documents.  \n",
       "   - Consider digitizing papers to reduce clutter.\n",
       "\n",
       "7. **Arrange Electronics**  \n",
       "   - Tidy up cables with clips or ties.  \n",
       "   - Position devices for easy access and ergonomics.\n",
       "\n",
       "8. **Add Personal Touches**  \n",
       "   Add a small plant or a photo to make the space pleasant without overcrowding it.\n",
       "\n",
       "9. **Maintain Regularly**  \n",
       "   Set aside a few minutes daily or weekly to tidy up and prevent clutter buildup.\n",
       "\n",
       "Following this plan will help you create an organized and productive workspace!</td><td>Response:<br />Absolutely! Here’s a simple, step-by-step plan to declutter and organize your workspace efficiently:\n",
       "\n",
       "### 1. Clear Everything Off\n",
       "- Remove all items from your desk and workspace.\n",
       "- Wipe down surfaces to start fresh.\n",
       "\n",
       "### 2. Sort Items Into Categories\n",
       "- Group similar items together (e.g., papers, stationery, electronics, personal items).\n",
       "- Create piles for: Keep, Toss, Donate, and Relocate.\n",
       "\n",
       "### 3. Declutter Ruthlessly\n",
       "- Toss broken, outdated, or unused items.\n",
       "- Recycle unnecessary papers and packaging.\n",
       "- Donate items that are in good condition but no longer needed.\n",
       "\n",
       "### 4. Organize What You Keep\n",
       "- Use drawer organizers or small containers to group smaller items.\n",
       "- Keep frequently used items within arm’s reach.\n",
       "- Store less-used items in drawers or shelves.\n",
       "\n",
       "### 5. Create a Paper System\n",
       "- Use trays or folders labeled “To Do,” “To File,” and “Completed.”\n",
       "- Digitize documents where possible to reduce physical clutter.\n",
       "\n",
       "### 6. Arrange Your Workspace Ergonomically\n",
       "- Position your monitor at eye level.\n",
       "- Keep keyboard and mouse comfortable to reach.\n",
       "- Ensure good lighting.\n",
       "\n",
       "### 7. Maintain Daily Habits\n",
       "- Spend 5 minutes at the end of each day tidying your workspace.\n",
       "- Regularly reassess and remove unnecessary items weekly or monthly.\n",
       "\n",
       "Would you like tips on specific organizing tools or workspace layouts?</td></tr></table>"
      ],
      "text/plain": [
       "<IPython.core.display.Markdown object>"
      ]
     },
     "metadata": {},
     "output_type": "display_data"
    }
   ],
   "source": [
    "# TODO: Write a system prompt starting with \"You are...\" replacing the ***********\n",
    "role_system_prompt = \"You are an expert professional organizer and a productivity coach\"\n",
    "\n",
    "print(\"Sending prompt with professional role...\")\n",
    "role_response = get_completion(role_system_prompt, user_prompt)\n",
    "print(\"Response received!\\n\")\n",
    "\n",
    "# Show last two prompts and responses\n",
    "display_responses(\n",
    "    {\n",
    "        \"system_prompt\": plain_system_prompt,\n",
    "        \"user_prompt\": user_prompt,\n",
    "        \"response\": baseline_response,\n",
    "    },\n",
    "    {\n",
    "        \"system_prompt\": role_system_prompt,\n",
    "        \"user_prompt\": user_prompt,\n",
    "        \"response\": role_response,\n",
    "    },\n",
    ")"
   ]
  },
  {
   "cell_type": "markdown",
   "metadata": {},
   "source": [
    "## 3. Add Constraints\n",
    "\n",
    "Let's add specific constraints to see how the model prioritizes tasks. Let's add a time constraint, a budget constraint, and other constraints that are important for you."
   ]
  },
  {
   "cell_type": "code",
   "execution_count": 13,
   "metadata": {},
   "outputs": [
    {
     "name": "stdout",
     "output_type": "stream",
     "text": [
      "Sending prompt with constraints...\n",
      "Response received!\n",
      "\n"
     ]
    },
    {
     "data": {
      "text/markdown": [
       "<table><tr><th>System Prompt:<br />You are an expert professional organizer and a productivity coach<br /><br />User Prompt:<br />Give me a simple plan to declutter and organize my workspace.</th><th>System Prompt:<br /> You are an expert professional organizer and a productivity coach. Plan must take about 5-10 minutes with No budget and it should be realistic.<br /><br />User Prompt:<br />Give me a simple plan to declutter and organize my workspace.</th></tr><tr><td>Response:<br />Absolutely! Here’s a simple, step-by-step plan to declutter and organize your workspace efficiently:\n",
       "\n",
       "### 1. Clear Everything Off\n",
       "- Remove all items from your desk and workspace.\n",
       "- Wipe down surfaces to start fresh.\n",
       "\n",
       "### 2. Sort Items Into Categories\n",
       "- Group similar items together (e.g., papers, stationery, electronics, personal items).\n",
       "- Create piles for: Keep, Toss, Donate, and Relocate.\n",
       "\n",
       "### 3. Declutter Ruthlessly\n",
       "- Toss broken, outdated, or unused items.\n",
       "- Recycle unnecessary papers and packaging.\n",
       "- Donate items that are in good condition but no longer needed.\n",
       "\n",
       "### 4. Organize What You Keep\n",
       "- Use drawer organizers or small containers to group smaller items.\n",
       "- Keep frequently used items within arm’s reach.\n",
       "- Store less-used items in drawers or shelves.\n",
       "\n",
       "### 5. Create a Paper System\n",
       "- Use trays or folders labeled “To Do,” “To File,” and “Completed.”\n",
       "- Digitize documents where possible to reduce physical clutter.\n",
       "\n",
       "### 6. Arrange Your Workspace Ergonomically\n",
       "- Position your monitor at eye level.\n",
       "- Keep keyboard and mouse comfortable to reach.\n",
       "- Ensure good lighting.\n",
       "\n",
       "### 7. Maintain Daily Habits\n",
       "- Spend 5 minutes at the end of each day tidying your workspace.\n",
       "- Regularly reassess and remove unnecessary items weekly or monthly.\n",
       "\n",
       "Would you like tips on specific organizing tools or workspace layouts?</td><td>Response:<br />Certainly! Here's a quick, no-budget, 5-10 minute plan to declutter and organize your workspace:\n",
       "\n",
       "1. **Clear the Surface (2 minutes)**\n",
       "   - Remove everything from your desk surface.\n",
       "   - Quickly sort items into three piles: Keep on desk, Relocate, Trash.\n",
       "\n",
       "2. **Wipe Down (1 minute)**\n",
       "   - Use a cloth or tissue to wipe your desk surface clean.\n",
       "\n",
       "3. **Sort and Prioritize (3 minutes)**\n",
       "   - For the \"Keep on desk\" pile, decide what you use daily.\n",
       "   - Place only daily essentials back on your desk (e.g., computer, notepad, pen).\n",
       "   - Put items you use less frequently in drawers or shelves nearby.\n",
       "\n",
       "4. **Organize Small Items (2 minutes)**\n",
       "   - Group similar items together (pens, paper clips, chargers).\n",
       "   - Use existing containers or small boxes to keep them tidy.\n",
       "\n",
       "5. **Relocate and Dispose (2 minutes)**\n",
       "   - Put the \"Relocate\" items in their proper places.\n",
       "   - Throw away or recycle the \"Trash\" pile immediately.\n",
       "\n",
       "Done! This quick routine keeps your workspace functional and clutter-free without any cost. For best results, do this once a week.</td></tr></table>"
      ],
      "text/plain": [
       "<IPython.core.display.Markdown object>"
      ]
     },
     "metadata": {},
     "output_type": "display_data"
    }
   ],
   "source": [
    "# TODO: Write a constraints system prompt replacing the ***********\n",
    "constraints_system_prompt = f\"\"\" {role_system_prompt}. Plan must take about 5-10 minutes with No budget and it should be realistic.\"\"\"\n",
    "\n",
    "print(\"Sending prompt with constraints...\")\n",
    "constraints_response = get_completion(constraints_system_prompt, user_prompt)\n",
    "print(\"Response received!\\n\")\n",
    "\n",
    "# Show last two prompts and responses\n",
    "display_responses(\n",
    "    {\n",
    "        \"system_prompt\": role_system_prompt,\n",
    "        \"user_prompt\": user_prompt,\n",
    "        \"response\": role_response,\n",
    "    },\n",
    "    {\n",
    "        \"system_prompt\": constraints_system_prompt,\n",
    "        \"user_prompt\": user_prompt,\n",
    "        \"response\": constraints_response,\n",
    "    },\n",
    ")"
   ]
  },
  {
   "cell_type": "markdown",
   "metadata": {},
   "source": [
    "### Observations\n",
    "\n",
    "Note how the model:\n",
    "- Prioritizes tasks within the given timeframe\n",
    "- Works within the budget\n",
    "- Handles other constraints"
   ]
  },
  {
   "cell_type": "markdown",
   "metadata": {},
   "source": [
    "## 4. Request Step-by-Step Reasoning\n",
    "\n",
    "Now, let's ask the model to explain its reasoning and provide a final checklist."
   ]
  },
  {
   "cell_type": "code",
   "execution_count": 14,
   "metadata": {},
   "outputs": [
    {
     "name": "stdout",
     "output_type": "stream",
     "text": [
      "Sending prompt with reasoning request...\n",
      "Response received!\n",
      "\n"
     ]
    },
    {
     "data": {
      "text/markdown": [
       "<table><tr><th>System Prompt:<br /> You are an expert professional organizer and a productivity coach. Plan must take about 5-10 minutes with No budget and it should be realistic.<br /><br />User Prompt:<br />Give me a simple plan to declutter and organize my workspace.</th><th>System Prompt:<br /> You are an expert professional organizer and a productivity coach. Plan must take about 5-10 minutes with No budget and it should be realistic.. Also can u explain your reasoning for each of the steps in a thoughtful way before presenting the final checklist.<br /><br />User Prompt:<br />Give me a simple plan to declutter and organize my workspace.</th></tr><tr><td>Response:<br />Certainly! Here's a quick, no-budget, 5-10 minute plan to declutter and organize your workspace:\n",
       "\n",
       "1. **Clear the Surface (2 minutes)**\n",
       "   - Remove everything from your desk surface.\n",
       "   - Quickly sort items into three piles: Keep on desk, Relocate, Trash.\n",
       "\n",
       "2. **Wipe Down (1 minute)**\n",
       "   - Use a cloth or tissue to wipe your desk surface clean.\n",
       "\n",
       "3. **Sort and Prioritize (3 minutes)**\n",
       "   - For the \"Keep on desk\" pile, decide what you use daily.\n",
       "   - Place only daily essentials back on your desk (e.g., computer, notepad, pen).\n",
       "   - Put items you use less frequently in drawers or shelves nearby.\n",
       "\n",
       "4. **Organize Small Items (2 minutes)**\n",
       "   - Group similar items together (pens, paper clips, chargers).\n",
       "   - Use existing containers or small boxes to keep them tidy.\n",
       "\n",
       "5. **Relocate and Dispose (2 minutes)**\n",
       "   - Put the \"Relocate\" items in their proper places.\n",
       "   - Throw away or recycle the \"Trash\" pile immediately.\n",
       "\n",
       "Done! This quick routine keeps your workspace functional and clutter-free without any cost. For best results, do this once a week.</td><td>Response:<br />Absolutely! Creating a decluttered and organized workspace can significantly boost your focus and productivity. Since we have 5-10 minutes and no budget, the plan needs to be quick, practical, and use only what you already have. Here’s how I’m thinking about it:\n",
       "\n",
       "**Reasoning:**\n",
       "\n",
       "1. **Clear the Surface First:** The visual clutter on your desk is often the biggest distraction. Clearing it first gives you a fresh slate and an immediate sense of accomplishment.\n",
       "\n",
       "2. **Sort into Categories:** Grouping items by type or function helps you decide what belongs on your desk and what can be stored elsewhere, reducing unnecessary items in your immediate workspace.\n",
       "\n",
       "3. **Prioritize Essentials:** Keep only what you use daily within arm’s reach. This keeps your workspace functional without overcrowding.\n",
       "\n",
       "4. **Use Existing Items for Organization:** Since there’s no budget, utilize what you already have (like jars, boxes, or trays) for grouping smaller items so they don’t scatter.\n",
       "\n",
       "5. **Establish a Quick Maintenance Habit:** Spending a minute or two at the end of each day to tidy up maintains the organization and prevents clutter from building back up.\n",
       "\n",
       "---\n",
       "\n",
       "### Quick Declutter and Organize Workspace Plan (5-10 minutes)\n",
       "\n",
       "**1. Clear Your Desk Surface (2-3 minutes)**  \n",
       "- Remove everything from your desk surface and place it on a nearby flat area (floor, bed, or another table).  \n",
       "- This helps you see all items at once and breaks attachment to clutter.\n",
       "\n",
       "**2. Sort Items into Categories (2 minutes)**  \n",
       "- Quickly group items into categories like:  \n",
       "  - Daily essentials (e.g., computer, notebook, pen)  \n",
       "  - Occasionally used items (e.g., reference books, chargers)  \n",
       "  - Trash or recycling (old papers, broken pens)  \n",
       "  - Items to relocate (e.g., snacks, personal items)  \n",
       "\n",
       "**3. Purge Unnecessary Items (1-2 minutes)**  \n",
       "- Toss trash/recycling immediately.  \n",
       "- Set aside items unrelated to your workspace to put away later.\n",
       "\n",
       "**4. Organize Essentials on Desk (2 minutes)**  \n",
       "- Return only daily essentials to your desk.  \n",
       "- Use small containers or existing holders to keep pens, clips, and other small items tidy.  \n",
       "- Stack books or papers neatly or put them aside if not needed now.\n",
       "\n",
       "**5. Quick Surface Wipe (optional, 1 minute)**  \n",
       "- Wipe your desk surface with a cloth or tissue to refresh your space.\n",
       "\n",
       "**6. Establish a Daily 1-minute Tidy Habit**  \n",
       "- At the end of each workday, spend one minute putting things back in place to keep your workspace ready for tomorrow.\n",
       "\n",
       "---\n",
       "\n",
       "This plan is realistic and efficient, focusing on quick wins that don’t require extra tools or money but can have a big impact on your workspace environment. Would you like me to tailor it to a specific type of workspace (e.g., home office, shared desk, creative studio)?</td></tr></table>"
      ],
      "text/plain": [
       "<IPython.core.display.Markdown object>"
      ]
     },
     "metadata": {},
     "output_type": "display_data"
    }
   ],
   "source": [
    "# TODO: Ask the LLM to explain its reasoning step by step, replacing the ***********\n",
    "reasoning_system_prompt = (\n",
    "    f\"{constraints_system_prompt}. Also can u explain your reasoning for each of the steps in a thoughtful way before presenting the final checklist.\"\n",
    ")\n",
    "\n",
    "print(\"Sending prompt with reasoning request...\")\n",
    "reasoning_response = get_completion(reasoning_system_prompt, user_prompt)\n",
    "print(\"Response received!\\n\")\n",
    "\n",
    "# Display the last two prompts and responses\n",
    "display_responses(\n",
    "    {\n",
    "        \"system_prompt\": constraints_system_prompt,\n",
    "        \"user_prompt\": user_prompt,\n",
    "        \"response\": constraints_response,\n",
    "    },\n",
    "    {\n",
    "        \"system_prompt\": reasoning_system_prompt,\n",
    "        \"user_prompt\": user_prompt,\n",
    "        \"response\": reasoning_response,\n",
    "    },\n",
    ")"
   ]
  },
  {
   "cell_type": "markdown",
   "metadata": {},
   "source": [
    "### Observations\n",
    "\n",
    "Examine the chain of thought for:\n",
    "- Clarity of reasoning\n",
    "- Logical progression, or lack thereof\n",
    "- How constraints may have affected decision-making\n",
    "- Additional insights provided by the reasoning"
   ]
  },
  {
   "cell_type": "markdown",
   "metadata": {},
   "source": [
    "## 5. Reflection & Transfer\n",
    "\n",
    "Let's reflect on what we've learned from this exercise."
   ]
  },
  {
   "cell_type": "markdown",
   "metadata": {},
   "source": [
    "### Which prompt tweak changed the output most dramatically and why?\n",
    "\n",
    "Use this cell to jot down your thoughts: Both the constraints and reasoning prompts changed the output significantly in this case. Both of them had a plan at the beginning. The reasoning one expanded this section and actually kept the main response relatively short, and it also added a checklist."
   ]
  },
  {
   "cell_type": "markdown",
   "metadata": {},
   "source": [
    "### List two other situations where the same prompt-refinement pattern could help\n",
    "\n",
    "`TODO: Replace the ***********`\n",
    "1. `***********`\n",
    "2. `***********`"
   ]
  },
  {
   "cell_type": "markdown",
   "metadata": {},
   "source": [
    "## Bonus: Apply what you've learned\n",
    "\n",
    "Try crafting a prompt for one of your own ideas or even a different organization task (e.g., digital file cleanup, closet overhaul)!"
   ]
  },
  {
   "cell_type": "code",
   "execution_count": null,
   "metadata": {},
   "outputs": [],
   "source": [
    "# Create your own prompts here!\n",
    "\n",
    "# TODO: Replace the ***********\n",
    "custom_system_prompt = \"\"\"\n",
    "***********\n",
    "\"\"\"\n",
    "user_prompt = \"\"\"\n",
    "***********\n",
    "\"\"\"\n",
    "\n",
    "# Uncomment the lines below to run your custom prompt\n",
    "print(\"Sending custom prompt...\")\n",
    "custom_response = get_completion(custom_system_prompt, user_prompt)\n",
    "print(\"Response received!\\n\")\n",
    "\n",
    "display_responses(\n",
    "    {\n",
    "        \"system_prompt\": custom_system_prompt,\n",
    "        \"user_prompt\": user_prompt,\n",
    "        \"response\": custom_response,\n",
    "    }\n",
    ")"
   ]
  },
  {
   "cell_type": "markdown",
   "metadata": {},
   "source": [
    "## Summary\n",
    "\n",
    "In this exercise, we explored how different prompt refinements affect the output of an LLM:\n",
    "\n",
    "1. **Generic Prompt**: We started with a simple request for a workspace organization plan.\n",
    "2. **Professional Role**: We added a specific role to enhance expertise and authority.\n",
    "3. **Concrete Constraints**: We introduced specific limitations that required prioritization.\n",
    "4. **Step-by-Step Reasoning**: We requested explicit reasoning to understand the model's thought process.\n",
    "\n",
    "These techniques demonstrate how prompt engineering can significantly improve the usefulness and relevance of AI-generated content for specific needs.\n",
    "\n",
    "Excellent Work! 🚀"
   ]
  }
 ],
 "metadata": {
  "kernelspec": {
   "display_name": ".venv (3.13.1)",
   "language": "python",
   "name": "python3"
  },
  "language_info": {
   "codemirror_mode": {
    "name": "ipython",
    "version": 3
   },
   "file_extension": ".py",
   "mimetype": "text/x-python",
   "name": "python",
   "nbconvert_exporter": "python",
   "pygments_lexer": "ipython3",
   "version": "3.13.1"
  }
 },
 "nbformat": 4,
 "nbformat_minor": 4
}
