{
 "cells": [
  {
   "cell_type": "markdown",
   "metadata": {},
   "source": [
    "# Pre-Lesson Exercise: Organize Your Workspace Space Kick-Off (SOLUTION)\n",
    "\n",
    "In this notebook, we'll explore prompt refinement techniques by guiding an LLM to create and explain a one-hour plan to organize a personal workspace.\n",
    "\n",
    "## Outline\n",
    "\n",
    "1. Start with a simple, no-role prompt\n",
    "2. Add a professional role\n",
    "3. Introduce concrete constraints\n",
    "4. Request step-by-step reasoning\n",
    "5. Reflect on what we've learned"
   ]
  },
  {
   "cell_type": "code",
   "execution_count": 1,
   "metadata": {},
   "outputs": [],
   "source": [
    "# Import necessary libraries\n",
    "from openai import OpenAI\n",
    "from IPython.display import Markdown, display\n",
    "import os"
   ]
  },
  {
   "cell_type": "code",
   "execution_count": 2,
   "metadata": {},
   "outputs": [],
   "source": [
    "# If using the Vocareum API endpoint\n",
    "client = OpenAI(\n",
    "    base_url=\"https://openai.vocareum.com/v1\",\n",
    "    api_key=os.getenv(\"OPENAI_API_KEY\"),\n",
    ")\n",
    "\n",
    "# If using OpenAI's API endpoint\n",
    "# client = OpenAI()"
   ]
  },
  {
   "cell_type": "code",
   "execution_count": 3,
   "metadata": {},
   "outputs": [],
   "source": [
    "from enum import Enum\n",
    "\n",
    "\n",
    "class OpenAIModels(str, Enum):\n",
    "    GPT_4O_MINI = \"gpt-4o-mini\"\n",
    "    GPT_41_MINI = \"gpt-4.1-mini\"\n",
    "    GPT_41_NANO = \"gpt-4.1-nano\"\n",
    "\n",
    "\n",
    "MODEL = OpenAIModels.GPT_41_NANO\n",
    "\n",
    "\n",
    "def get_completion(system_prompt, user_prompt, model=MODEL):\n",
    "    \"\"\"\n",
    "    Function to get a completion from the OpenAI API.\n",
    "    Args:\n",
    "        system_prompt: The system prompt\n",
    "        user_prompt: The user prompt\n",
    "        model: The model to use (default is gpt-4.1-mini)\n",
    "    Returns:\n",
    "        The completion text\n",
    "    \"\"\"\n",
    "    messages = [\n",
    "        {\"role\": \"user\", \"content\": user_prompt},\n",
    "    ]\n",
    "    if system_prompt is not None:\n",
    "        messages = [\n",
    "            {\"role\": \"system\", \"content\": system_prompt},\n",
    "            *messages,\n",
    "        ]\n",
    "    try:\n",
    "        response = client.chat.completions.create(\n",
    "            model=model,\n",
    "            messages=messages,\n",
    "            temperature=0.7,\n",
    "        )\n",
    "        return response.choices[0].message.content\n",
    "    except Exception as e:\n",
    "        return f\"An error occurred: {e}\"\n",
    "\n",
    "\n",
    "def display_responses(*args):\n",
    "    \"\"\"Helper function to display responses as Markdown, horizontally.\"\"\"\n",
    "    markdown_string = \"<table><tr>\"\n",
    "    # Headers\n",
    "    for arg in args:\n",
    "        markdown_string += f\"<th>System Prompt:<br />{arg['system_prompt']}<br /><br />\"\n",
    "        markdown_string += f\"User Prompt:<br />{arg['user_prompt']}</th>\"\n",
    "    markdown_string += \"</tr>\"\n",
    "    # Rows\n",
    "    markdown_string += \"<tr>\"\n",
    "    for arg in args:\n",
    "        markdown_string += f\"<td>Response:<br />{arg['response']}</td>\"\n",
    "    markdown_string += \"</tr></table>\"\n",
    "    display(Markdown(markdown_string))"
   ]
  },
  {
   "cell_type": "markdown",
   "metadata": {},
   "source": [
    "## 1. No-Role Prompt\n",
    "\n",
    "First, let's see what the model produces with a basic prompt."
   ]
  },
  {
   "cell_type": "code",
   "execution_count": 4,
   "metadata": {},
   "outputs": [
    {
     "name": "stdout",
     "output_type": "stream",
     "text": [
      "Sending prompt to OpenAIModels.GPT_41_NANO model...\n",
      "Response received!\n",
      "\n"
     ]
    },
    {
     "data": {
      "text/markdown": [
       "<table><tr><th>System Prompt:<br />You are a helpful assistant.<br /><br />User Prompt:<br />Give me a simple plan to declutter and organize my workspace.</th></tr><tr><td>Response:<br />Certainly! Here's a simple step-by-step plan to declutter and organize your workspace:\n",
       "\n",
       "1. Set a Goal:\n",
       "   - Decide what you want to achieve (e.g., a tidy desk, more storage, better organization).\n",
       "2. Clear Everything:\n",
       "   - Remove all items from your desk and workspace.\n",
       "   - Sort items into categories: Keep, Donate/Sell, Discard.\n",
       "3. Clean the Space:\n",
       "   - Wipe down surfaces, shelves, and storage areas.\n",
       "4. Organize Items:\n",
       "   - Keep only essential items on your desk (e.g., computer, notepad, pen).\n",
       "   - Store less frequently used items in drawers or cabinets.\n",
       "   - Use organizers like trays, bins, or drawer dividers for supplies.\n",
       "5. Create Zones:\n",
       "   - Designate specific areas for different tasks (e.g., work zone, supplies, reference materials).\n",
       "6. Set Up Your Workspace:\n",
       "   - Arrange items for easy access.\n",
       "   - Keep cables tidy with clips or ties.\n",
       "7. Maintain Regularly:\n",
       "   - Spend 5-10 minutes daily tidying up.\n",
       "   - Weekly, review and reorganize as needed.\n",
       "8. Personalize:\n",
       "   - Add a few personal touches like a plant or photo to make the space welcoming.\n",
       "\n",
       "Would you like a printable checklist to follow along?</td></tr></table>"
      ],
      "text/plain": [
       "<IPython.core.display.Markdown object>"
      ]
     },
     "metadata": {},
     "output_type": "display_data"
    }
   ],
   "source": [
    "plain_system_prompt = \"You are a helpful assistant.\"  # A plain system prompt\n",
    "user_prompt = \"Give me a simple plan to declutter and organize my workspace.\"\n",
    "\n",
    "print(f\"Sending prompt to {MODEL} model...\")\n",
    "baseline_response = get_completion(plain_system_prompt, user_prompt)\n",
    "print(\"Response received!\\n\")\n",
    "\n",
    "display_responses(\n",
    "    {\n",
    "        \"system_prompt\": plain_system_prompt,\n",
    "        \"user_prompt\": user_prompt,\n",
    "        \"response\": baseline_response,\n",
    "    }\n",
    ")"
   ]
  },
  {
   "cell_type": "markdown",
   "metadata": {},
   "source": [
    "### Observations\n",
    "\n",
    "Take a moment to skim the response and note:\n",
    "- What tasks did the model choose?\n",
    "- How did it sequence them?\n",
    "- What level of detail was provided?"
   ]
  },
  {
   "cell_type": "markdown",
   "metadata": {},
   "source": [
    "## 2. Add a Professional Role\n",
    "\n",
    "Now, let's add a professional role to see how it affects the response.\n",
    "\n",
    "<div style=\"color: red\">NOTE: We will use the same user prompt for these examples. All you need to do is vary the system prompt, which is where one would normally define the role for an LLM.</div>"
   ]
  },
  {
   "cell_type": "code",
   "execution_count": 12,
   "metadata": {},
   "outputs": [
    {
     "name": "stdout",
     "output_type": "stream",
     "text": [
      "Sending prompt with professional role...\n",
      "Response received!\n",
      "\n"
     ]
    },
    {
     "data": {
      "text/markdown": [
       "<table><tr><th>System Prompt:<br />You are a helpful assistant.<br /><br />User Prompt:<br />\n",
       "Please generate a list of 10 ideas for an article about the benefits of meditation\n",
       "that millions of people will read and benefit from. The article is for a technical audience. \n",
       "</th><th>System Prompt:<br />You are a certified professional organizer.<br /><br />User Prompt:<br />\n",
       "Please generate a list of 10 ideas for an article about the benefits of meditation\n",
       "that millions of people will read and benefit from. The article is for a technical audience. \n",
       "</th></tr><tr><td>Response:<br />Certainly! Here's a simple step-by-step plan to declutter and organize your workspace:\n",
       "\n",
       "1. Set a Goal:\n",
       "   - Decide what you want to achieve (e.g., a tidy desk, more storage, better organization).\n",
       "2. Clear Everything:\n",
       "   - Remove all items from your desk and workspace.\n",
       "   - Sort items into categories: Keep, Donate/Sell, Discard.\n",
       "3. Clean the Space:\n",
       "   - Wipe down surfaces, shelves, and storage areas.\n",
       "4. Organize Items:\n",
       "   - Keep only essential items on your desk (e.g., computer, notepad, pen).\n",
       "   - Store less frequently used items in drawers or cabinets.\n",
       "   - Use organizers like trays, bins, or drawer dividers for supplies.\n",
       "5. Create Zones:\n",
       "   - Designate specific areas for different tasks (e.g., work zone, supplies, reference materials).\n",
       "6. Set Up Your Workspace:\n",
       "   - Arrange items for easy access.\n",
       "   - Keep cables tidy with clips or ties.\n",
       "7. Maintain Regularly:\n",
       "   - Spend 5-10 minutes daily tidying up.\n",
       "   - Weekly, review and reorganize as needed.\n",
       "8. Personalize:\n",
       "   - Add a few personal touches like a plant or photo to make the space welcoming.\n",
       "\n",
       "Would you like a printable checklist to follow along?</td><td>Response:<br />Certainly! Here are 10 article ideas about the benefits of meditation tailored for a technical audience:\n",
       "\n",
       "1. **Enhancing Cognitive Function Through Meditation: A Data-Driven Analysis**  \n",
       "Explore scientific studies showing how meditation improves focus, memory, and problem-solving skills in professionals.\n",
       "\n",
       "2. **Neuroscience of Meditation: Understanding Brain Plasticity and Stress Reduction**  \n",
       "Detail the neural mechanisms behind meditation’s impact on brain structure and function, supported by recent imaging research.\n",
       "\n",
       "3. **Meditation as a Tool for Managing Workplace Stress: Evidence and Best Practices**  \n",
       "Discuss how meditation can reduce cortisol levels and improve resilience in high-stress environments, with practical implementation tips.\n",
       "\n",
       "4. **The Role of Meditation in Improving Sleep Quality for Tech Professionals**  \n",
       "Analyze the connection between meditation routines and sleep hygiene, backed by data on sleep pattern improvements.\n",
       "\n",
       "5. **Integrating Meditation into Agile and DevOps Workflows for Better Team Performance**  \n",
       "Offer insights on how regular meditation can foster mindfulness, patience, and collaboration in fast-paced technical teams.\n",
       "\n",
       "6. **Quantifying the Benefits of Meditation on Productivity Using Data Analytics**  \n",
       "Present frameworks and case studies that measure productivity gains attributable to meditation practices in tech settings.\n",
       "\n",
       "7. **Meditation and Emotional Regulation: Leveraging Mindfulness to Enhance Decision-Making**  \n",
       "Explain how meditation strengthens emotional intelligence, leading to better leadership and technical decision-making.\n",
       "\n",
       "8. **Harnessing Meditation for Enhanced Creativity and Innovation in Tech Development**  \n",
       "Review research on how meditation fosters divergent thinking and problem-solving skills essential for innovation.\n",
       "\n",
       "9. **Automating Mindfulness: Developing Tech Solutions to Support Meditation Practices**  \n",
       "Discuss emerging apps, wearables, and AI-driven tools designed to facilitate and track meditation habits among professionals.\n",
       "\n",
       "10. **Long-Term Health Benefits of Meditation: Implications for Tech Industry Wellness Programs**  \n",
       "Summarize longitudinal studies on health outcomes, including cardiovascular and mental health improvements, relevant for corporate wellness initiatives.\n",
       "\n",
       "Would you like me to develop one of these ideas into a full article outline?</td></tr></table>"
      ],
      "text/plain": [
       "<IPython.core.display.Markdown object>"
      ]
     },
     "metadata": {},
     "output_type": "display_data"
    }
   ],
   "source": [
    "# TODO: Write a system prompt starting with \"You are...\" replacing the ***********\n",
    "role_system_prompt = \"You are a certified professional organizer.\"\n",
    "\n",
    "print(\"Sending prompt with professional role...\")\n",
    "role_response = get_completion(role_system_prompt, user_prompt)\n",
    "print(\"Response received!\\n\")\n",
    "\n",
    "# Show last two prompts and responses\n",
    "display_responses(\n",
    "    {\n",
    "        \"system_prompt\": plain_system_prompt,\n",
    "        \"user_prompt\": user_prompt,\n",
    "        \"response\": baseline_response,\n",
    "    },\n",
    "    {\n",
    "        \"system_prompt\": role_system_prompt,\n",
    "        \"user_prompt\": user_prompt,\n",
    "        \"response\": role_response,\n",
    "    },\n",
    ")"
   ]
  },
  {
   "cell_type": "markdown",
   "metadata": {},
   "source": [
    "### Observations\n",
    "\n",
    "Note the possible differences in:\n",
    "- Terminology used\n",
    "- Level of detail\n",
    "- Suggested tools or techniques\n",
    "- Overall professionalism and expertise reflected"
   ]
  },
  {
   "cell_type": "markdown",
   "metadata": {},
   "source": [
    "## 3. Introduce Concrete Constraints\n",
    "\n",
    "Let's add specific constraints to see how the model prioritizes tasks. Let's add a time constraint, a budget constraint, and other constraints that are important for you."
   ]
  },
  {
   "cell_type": "code",
   "execution_count": 13,
   "metadata": {},
   "outputs": [
    {
     "name": "stdout",
     "output_type": "stream",
     "text": [
      "Sending prompt with constraints...\n",
      "Response received!\n",
      "\n"
     ]
    },
    {
     "data": {
      "text/markdown": [
       "<table><tr><th>System Prompt:<br />You are a certified professional organizer.<br /><br />User Prompt:<br />\n",
       "Please generate a list of 10 ideas for an article about the benefits of meditation\n",
       "that millions of people will read and benefit from. The article is for a technical audience. \n",
       "</th><th>System Prompt:<br />You are a certified professional organizer.. I have only 15 minutes, a $20 budget, and limited floor space; I want to keep sentimental items but maximize desk surface.<br /><br />User Prompt:<br />\n",
       "Please generate a list of 10 ideas for an article about the benefits of meditation\n",
       "that millions of people will read and benefit from. The article is for a technical audience. \n",
       "</th></tr><tr><td>Response:<br />Certainly! Here are 10 article ideas about the benefits of meditation tailored for a technical audience:\n",
       "\n",
       "1. **Enhancing Cognitive Function Through Meditation: A Data-Driven Analysis**  \n",
       "Explore scientific studies showing how meditation improves focus, memory, and problem-solving skills in professionals.\n",
       "\n",
       "2. **Neuroscience of Meditation: Understanding Brain Plasticity and Stress Reduction**  \n",
       "Detail the neural mechanisms behind meditation’s impact on brain structure and function, supported by recent imaging research.\n",
       "\n",
       "3. **Meditation as a Tool for Managing Workplace Stress: Evidence and Best Practices**  \n",
       "Discuss how meditation can reduce cortisol levels and improve resilience in high-stress environments, with practical implementation tips.\n",
       "\n",
       "4. **The Role of Meditation in Improving Sleep Quality for Tech Professionals**  \n",
       "Analyze the connection between meditation routines and sleep hygiene, backed by data on sleep pattern improvements.\n",
       "\n",
       "5. **Integrating Meditation into Agile and DevOps Workflows for Better Team Performance**  \n",
       "Offer insights on how regular meditation can foster mindfulness, patience, and collaboration in fast-paced technical teams.\n",
       "\n",
       "6. **Quantifying the Benefits of Meditation on Productivity Using Data Analytics**  \n",
       "Present frameworks and case studies that measure productivity gains attributable to meditation practices in tech settings.\n",
       "\n",
       "7. **Meditation and Emotional Regulation: Leveraging Mindfulness to Enhance Decision-Making**  \n",
       "Explain how meditation strengthens emotional intelligence, leading to better leadership and technical decision-making.\n",
       "\n",
       "8. **Harnessing Meditation for Enhanced Creativity and Innovation in Tech Development**  \n",
       "Review research on how meditation fosters divergent thinking and problem-solving skills essential for innovation.\n",
       "\n",
       "9. **Automating Mindfulness: Developing Tech Solutions to Support Meditation Practices**  \n",
       "Discuss emerging apps, wearables, and AI-driven tools designed to facilitate and track meditation habits among professionals.\n",
       "\n",
       "10. **Long-Term Health Benefits of Meditation: Implications for Tech Industry Wellness Programs**  \n",
       "Summarize longitudinal studies on health outcomes, including cardiovascular and mental health improvements, relevant for corporate wellness initiatives.\n",
       "\n",
       "Would you like me to develop one of these ideas into a full article outline?</td><td>Response:<br />Certainly! Here are 10 compelling article ideas about the benefits of meditation tailored for a technical audience:\n",
       "\n",
       "1. **Enhancing Cognitive Function: How Meditation Sharpens Focus and Memory in Tech Professionals**  \n",
       "2. **Meditation as a Tool for Stress Reduction: Improving Mental Health in High-Pressure Work Environments**  \n",
       "3. **Neuroscientific Insights: How Meditation Physically Alters Brain Structures to Boost Productivity**  \n",
       "4. **The Role of Meditation in Managing Burnout and Preventing Tech Industry Fatigue**  \n",
       "5. **Integrating Meditation into Agile Teams: Promoting Mindfulness for Better Collaboration**  \n",
       "6. **Quantifying the Benefits: Using Data and Wearables to Track Meditation’s Impact on Mental Performance**  \n",
       "7. **Meditation and Creativity: Unlocking Innovative Thinking for Engineers and Developers**  \n",
       "8. **Building Resilience Through Meditation: Strategies for Tech Leaders Facing Rapid Change**  \n",
       "9. **Meditation's Effect on Emotional Regulation: Enhancing Interpersonal Skills in Remote Work Settings**  \n",
       "10. **Implementing Micro-Meditation Practices in Daily Tech Workflows for Sustained Focus and Well-being**  \n",
       "\n",
       "Would you like me to expand on any of these ideas?</td></tr></table>"
      ],
      "text/plain": [
       "<IPython.core.display.Markdown object>"
      ]
     },
     "metadata": {},
     "output_type": "display_data"
    }
   ],
   "source": [
    "# TODO: Write a constraints system prompt replacing the ***********\n",
    "constraints_system_prompt = f\"{role_system_prompt}. I have only 15 minutes, a $20 budget, and limited floor space; I want to keep sentimental items but maximize desk surface.\"\n",
    "\n",
    "print(\"Sending prompt with constraints...\")\n",
    "constraints_response = get_completion(constraints_system_prompt, user_prompt)\n",
    "print(\"Response received!\\n\")\n",
    "\n",
    "# Show last two prompts and responses\n",
    "display_responses(\n",
    "    {\n",
    "        \"system_prompt\": role_system_prompt,\n",
    "        \"user_prompt\": user_prompt,\n",
    "        \"response\": role_response,\n",
    "    },\n",
    "    {\n",
    "        \"system_prompt\": constraints_system_prompt,\n",
    "        \"user_prompt\": user_prompt,\n",
    "        \"response\": constraints_response,\n",
    "    },\n",
    ")"
   ]
  },
  {
   "cell_type": "markdown",
   "metadata": {},
   "source": [
    "### Observations\n",
    "\n",
    "Note how the model:\n",
    "- Prioritizes tasks within the given timeframe\n",
    "- Works within the budget\n",
    "- Handles other constraints"
   ]
  },
  {
   "cell_type": "markdown",
   "metadata": {},
   "source": [
    "## 4. Request Step-by-Step Reasoning\n",
    "\n",
    "Now, let's ask the model to explain its reasoning and provide a final checklist."
   ]
  },
  {
   "cell_type": "code",
   "execution_count": 11,
   "metadata": {},
   "outputs": [
    {
     "name": "stdout",
     "output_type": "stream",
     "text": [
      "Sending prompt with reasoning request...\n",
      "Response received!\n",
      "\n"
     ]
    },
    {
     "data": {
      "text/markdown": [
       "<table><tr><th>System Prompt:<br />You are a certified professional organizer.. I have only 15 minutes, a $20 budget, and limited floor space; I want to keep sentimental items but maximize desk surface.<br /><br />User Prompt:<br />\n",
       "Please generate a list of 10 ideas for an article about the benefits of meditation\n",
       "that millions of people will read and benefit from. The article is for a technical audience. \n",
       "</th><th>System Prompt:<br />You are a certified professional organizer.. I have only 15 minutes, a $20 budget, and limited floor space; I want to keep sentimental items but maximize desk surface.. Explain your reasoning step by step before presenting the final checklist.<br /><br />User Prompt:<br />\n",
       "Please generate a list of 10 ideas for an article about the benefits of meditation\n",
       "that millions of people will read and benefit from. The article is for a technical audience. \n",
       "</th></tr><tr><td>Response:<br />Certainly! Here are 10 compelling article ideas about the benefits of meditation tailored for a technical audience:\n",
       "\n",
       "1. **Enhancing Cognitive Function: How Meditation Boosts Brain Performance in Tech Professionals**  \n",
       "2. **Meditation and Neuroplasticity: Rewiring the Brain for Better Problem-Solving and Creativity**  \n",
       "3. **Reducing Stress in High-Pressure Work Environments: The Science Behind Meditation’s Effectiveness**  \n",
       "4. **Improving Focus and Attention Span: Meditation Techniques for Developers and Engineers**  \n",
       "5. **Meditation as a Tool for Enhancing Emotional Intelligence in the Tech Industry**  \n",
       "6. **The Impact of Meditation on Sleep Quality and Productivity in Tech Workers**  \n",
       "7. **Integrating Mindfulness Practices into Agile and Scrum Workflows for Better Team Collaboration**  \n",
       "8. **Quantifying the Benefits: Using Data to Demonstrate Meditation’s Impact on Work Performance**  \n",
       "9. **Biofeedback and Meditation: Leveraging Technology to Track Mental Wellness and Stress Levels**  \n",
       "10. **Future of Work: How Meditation and Mindfulness Are Reshaping Tech Industry Culture and Employee Wellness**  \n",
       "\n",
       "Would you like me to help develop one of these ideas into a detailed outline or article?</td><td>Response:<br />Certainly! While your request is about generating article ideas on meditation, I want to clarify that I am also a certified professional organizer and can assist with organizing and maximizing your space efficiently. \n",
       "\n",
       "Since your initial message focuses on meditation article ideas, I will proceed with that. If you'd like assistance with organizing your space afterward, please let me know.\n",
       "\n",
       "---\n",
       "\n",
       "**Step-by-step reasoning for generating the article ideas:**\n",
       "\n",
       "1. **Identify the target audience:** A technical audience may be interested in scientific, psychological, and neurological benefits, as well as practical applications.\n",
       "2. **Focus on unique angles:** To stand out, I’ll include ideas that delve into data, technology, and research-backed benefits.\n",
       "3. **Ensure broad appeal:** The topics should resonate widely, addressing common concerns like mental health, productivity, and cognitive enhancement.\n",
       "4. **Incorporate recent trends:** Such as neurofeedback, mindfulness apps, and biohacking.\n",
       "5. **Balance depth and accessibility:** While technical, the articles should be comprehensible and engaging for a broad audience.\n",
       "\n",
       "---\n",
       "\n",
       "### Final list of 10 article ideas about the benefits of meditation for a technical audience:\n",
       "\n",
       "1. **Neuroscience of Meditation: How Mindfulness Reshapes Brain Structure and Function**  \n",
       "Explores recent research on neuroplasticity and brain regions affected by meditation.\n",
       "\n",
       "2. **The Impact of Meditation on Cognitive Performance and Decision-Making in High-Pressure Environments**  \n",
       "Analyzes how meditation improves focus, memory, and decision-making under stress.\n",
       "\n",
       "3. **Biohacking Your Brain: Using Meditation to Enhance Neurotransmitter Balance and Mental Clarity**  \n",
       "Discusses biochemical changes during meditation and their effects on mood and cognition.\n",
       "\n",
       "4. **Meditation as a Tool for Reducing Stress-Induced Epigenetic Changes**  \n",
       "Examines how meditation can influence gene expression related to stress responses.\n",
       "\n",
       "5. **Integrating Meditation with Wearable Technology: Monitoring the Mind-Body Connection in Real-Time**  \n",
       "Highlights innovations in tracking physiological responses during meditation sessions.\n",
       "\n",
       "6. **The Role of Meditation in Managing Anxiety and Depression: A Data-Driven Perspective**  \n",
       "Reviews clinical studies demonstrating mental health benefits with statistical analysis.\n",
       "\n",
       "7. **Harnessing Mindfulness for Enhanced Focus in Tech-Driven Workspaces**  \n",
       "Provides insights into how meditation can improve productivity and innovation.\n",
       "\n",
       "8. **Meditation and the Default Mode Network: Unlocking Creativity and Problem-Solving Skills**  \n",
       "Explores the relationship between meditation practices and neural networks involved in creativity.\n",
       "\n",
       "9. **The Science of Compassion: How Meditation Cultivates Empathy and Social Connectivity**  \n",
       "Analyzes the impact of meditation on social cognition and emotional intelligence.\n",
       "\n",
       "10. **Future Technologies in Meditation: AI and VR as Tools for Personalized Mindfulness Training**  \n",
       "Discusses emerging tech that makes meditation more accessible and effective.\n",
       "\n",
       "---\n",
       "\n",
       "Would you like me to help with writing any of these articles or focusing on a specific topic?</td></tr></table>"
      ],
      "text/plain": [
       "<IPython.core.display.Markdown object>"
      ]
     },
     "metadata": {},
     "output_type": "display_data"
    }
   ],
   "source": [
    "# TODO: Ask the LLM to explain its reasoning step by step, replacing the ***********\n",
    "reasoning_system_prompt = f\"{constraints_system_prompt}. Explain your reasoning step by step before presenting the final checklist.\"\n",
    "\n",
    "print(\"Sending prompt with reasoning request...\")\n",
    "reasoning_response = get_completion(reasoning_system_prompt, user_prompt)\n",
    "print(\"Response received!\\n\")\n",
    "\n",
    "# Display the last two prompts and responses\n",
    "display_responses(\n",
    "    {\n",
    "        \"system_prompt\": constraints_system_prompt,\n",
    "        \"user_prompt\": user_prompt,\n",
    "        \"response\": constraints_response,\n",
    "    },\n",
    "    {\n",
    "        \"system_prompt\": reasoning_system_prompt,\n",
    "        \"user_prompt\": user_prompt,\n",
    "        \"response\": reasoning_response,\n",
    "    },\n",
    ")"
   ]
  },
  {
   "cell_type": "markdown",
   "metadata": {},
   "source": [
    "### Observations\n",
    "\n",
    "Examine the chain of thought for:\n",
    "- Clarity of reasoning\n",
    "- Logical progression, or lack thereof\n",
    "- How constraints may have affected decision-making\n",
    "- Additional insights provided by the reasoning"
   ]
  },
  {
   "cell_type": "markdown",
   "metadata": {},
   "source": [
    "## 5. Reflection & Transfer\n",
    "\n",
    "Let's reflect on what we've learned from this exercise."
   ]
  },
  {
   "cell_type": "markdown",
   "metadata": {},
   "source": [
    "### Which prompt tweak changed the output most dramatically and why?\n",
    "\n",
    "Use this cell to jot down your thoughts: Both the constraints and reasoning prompts changed the output significantly in this case. Both of them had a plan at the beginning. The reasoning one expanded this section and actually kept the main response relatively short, and it also added a checklist."
   ]
  },
  {
   "cell_type": "markdown",
   "metadata": {},
   "source": [
    "### List two other situations where the same prompt-refinement pattern could help\n",
    "\n",
    "TODO: Replace the ***********\n",
    "1. I want to generate a list of ideas for an article I'd like to write.\n",
    "2. I'm creating a summary of a lengthy technical report for a non-technical audience."
   ]
  },
  {
   "cell_type": "markdown",
   "metadata": {},
   "source": [
    "## Bonus: Apply what you've learned to a new situation\n",
    "\n",
    "Try crafting a prompt for one of your ideas or even a different organization task (e.g., digital file cleanup, closet overhaul) using the same refinement techniques we explored."
   ]
  },
  {
   "cell_type": "code",
   "execution_count": null,
   "metadata": {},
   "outputs": [
    {
     "name": "stdout",
     "output_type": "stream",
     "text": [
      "Sending custom prompt...\n",
      "Response received!\n",
      "\n"
     ]
    },
    {
     "data": {
      "text/markdown": [
       "<table><tr><th>System Prompt:<br />\n",
       "You are a best-selling writer.\n",
       "\n",
       "In general:\n",
       "- You always explain your overall reasoning before providing the answer to a user's question.\n",
       "- Always conclude with a list of action items when asked for advice.\n",
       "- Do not end with a final question or sentence after this list of action items.\n",
       "\n",
       "\n",
       "<br /><br />User Prompt:<br />\n",
       "Please generate a list of 10 ideas for an article about the benefits of meditation\n",
       "that millions of people will read and benefit from. The article is for a technical audience. \n",
       "</th></tr><tr><td>Response:<br />To generate a compelling list of article ideas about the benefits of meditation tailored for a technical audience, I need to focus on aspects that resonate with their interests—such as cognitive enhancement, neural mechanisms, productivity, and scientific validation. Technical readers often appreciate data-driven insights, connections to neuroscience, and practical applications in their fields.\n",
       "\n",
       "Here's my reasoning process:\n",
       "1. Highlight how meditation influences brain structure and function, supported by neuroimaging studies.\n",
       "2. Discuss the impact of meditation on cognitive processes like attention, memory, and decision-making.\n",
       "3. Explore meditation’s role in stress reduction from a neurochemical perspective.\n",
       "4. Examine how meditation can improve focus and productivity in high-tech environments.\n",
       "5. Review recent scientific research quantifying meditation’s benefits through measurable biomarkers.\n",
       "6. Analyze the potential of meditation as a tool for mental resilience in high-pressure professions.\n",
       "7. Investigate the integration of meditation practices into workplace wellness programs and their outcomes.\n",
       "8. Cover the technological advancements in meditation apps, biofeedback devices, and neurofeedback tools.\n",
       "9. Present case studies of tech companies leveraging meditation to enhance employee well-being and innovation.\n",
       "10. Consider future research directions and emerging technologies in the scientific study of meditation's benefits.\n",
       "\n",
       "Based on this, here are 10 article ideas:\n",
       "\n",
       "1. \"Neuroplasticity and Meditation: How Mindfulness Rewires the Brain for Enhanced Cognitive Function\"\n",
       "2. \"The Science Behind Focus: Meditation’s Role in Sharpening Attention and Memory for Tech Professionals\"\n",
       "3. \"Neurochemical Effects of Meditation: Reducing Stress and Enhancing Resilience in High-Pressure Environments\"\n",
       "4. \"Boosting Productivity Through Meditation: Evidence-Based Strategies for Tech Teams\"\n",
       "5. \"Biomarkers of Mindfulness: Quantifying the Physiological Benefits of Meditation with Modern Technology\"\n",
       "6. \"Building Mental Resilience: How Meditation Supports Cognitive Health in the Tech Industry\"\n",
       "7. \"Workplace Wellness 2.0: Integrating Meditation into Corporate Culture for Optimal Performance\"\n",
       "8. \"From Apps to Neurofeedback: Cutting-Edge Technologies Transforming Meditation Practice\"\n",
       "9. \"Case Studies: How Leading Tech Companies Use Meditation to Foster Innovation and Employee Well-Being\"\n",
       "10. \"The Future of Meditation Research: Emerging Technologies and Scientific Frontiers\"\n",
       "\n",
       "Action Items:\n",
       "- Select the most relevant and engaging idea for your target audience.\n",
       "- Gather recent scientific studies and technological developments related to the chosen topic.\n",
       "- Incorporate data, graphs, and case studies to support your points.\n",
       "- Use clear, accessible language with technical precision to engage a knowledgeable audience.\n",
       "- Develop a compelling outline to structure your article effectively.</td></tr></table>"
      ],
      "text/plain": [
       "<IPython.core.display.Markdown object>"
      ]
     },
     "metadata": {},
     "output_type": "display_data"
    }
   ],
   "source": [
    "# Create your own prompts here!\n",
    "\n",
    "# TODO: Replace the ***********\n",
    "custom_system_prompt = \"\"\"\n",
    "You are a best-selling writer.\n",
    "\n",
    "In general:\n",
    "- You always explain your overall reasoning before providing the answer to a user's question.\n",
    "- Always conclude with a list of action items when asked for advice.\n",
    "- Do not end with a final question or sentence after this list of action items.\n",
    "\n",
    "\n",
    "\"\"\"\n",
    "user_prompt = \"\"\"\n",
    "Please generate a list of 10 ideas for an article about the benefits of meditation\n",
    "that millions of people will read and benefit from. The article is for a technical audience. \n",
    "\"\"\"\n",
    "\n",
    "# Uncomment the lines below to run your custom prompt\n",
    "print(\"Sending custom prompt...\")\n",
    "custom_response = get_completion(custom_system_prompt, user_prompt)\n",
    "print(\"Response received!\\n\")\n",
    "\n",
    "display_responses(\n",
    "    {\n",
    "        \"system_prompt\": custom_system_prompt,\n",
    "        \"user_prompt\": user_prompt,\n",
    "        \"response\": custom_response,\n",
    "    }\n",
    ")"
   ]
  },
  {
   "cell_type": "markdown",
   "metadata": {},
   "source": [
    "## Summary\n",
    "\n",
    "In this exercise, we explored how different prompt refinements affect the output of an LLM:\n",
    "\n",
    "1. **Vanilla Prompt**: We started with a simple request for a workspace organization plan.\n",
    "2. **Professional Role**: We added a specific role to enhance expertise and authority.\n",
    "3. **Concrete Constraints**: We introduced specific limitations that required prioritization.\n",
    "4. **Step-by-Step Reasoning**: We requested explicit reasoning to understand the model's thought process.\n",
    "\n",
    "These techniques demonstrate how prompt engineering can significantly improve the usefulness and relevance of AI-generated content for specific needs.\n",
    "\n",
    "Excellent Work! 🚀"
   ]
  }
 ],
 "metadata": {
  "kernelspec": {
   "display_name": ".venv",
   "language": "python",
   "name": "python3"
  },
  "language_info": {
   "codemirror_mode": {
    "name": "ipython",
    "version": 3
   },
   "file_extension": ".py",
   "mimetype": "text/x-python",
   "name": "python",
   "nbconvert_exporter": "python",
   "pygments_lexer": "ipython3",
   "version": "3.12.6"
  }
 },
 "nbformat": 4,
 "nbformat_minor": 4
}
